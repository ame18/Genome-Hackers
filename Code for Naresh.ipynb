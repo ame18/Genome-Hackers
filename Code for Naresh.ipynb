{
 "cells": [
  {
   "cell_type": "code",
   "execution_count": 1,
   "metadata": {},
   "outputs": [
    {
     "name": "stderr",
     "output_type": "stream",
     "text": [
      "\n",
      "Attaching package: ‘dplyr’\n",
      "\n",
      "\n",
      "The following objects are masked from ‘package:stats’:\n",
      "\n",
      "    filter, lag\n",
      "\n",
      "\n",
      "The following objects are masked from ‘package:base’:\n",
      "\n",
      "    intersect, setdiff, setequal, union\n",
      "\n",
      "\n",
      "------------------------------------------------------------------------------\n",
      "\n",
      "You have loaded plyr after dplyr - this is likely to cause problems.\n",
      "If you need functions from both plyr and dplyr, please load plyr first, then dplyr:\n",
      "library(plyr); library(dplyr)\n",
      "\n",
      "------------------------------------------------------------------------------\n",
      "\n",
      "\n",
      "Attaching package: ‘plyr’\n",
      "\n",
      "\n",
      "The following objects are masked from ‘package:dplyr’:\n",
      "\n",
      "    arrange, count, desc, failwith, id, mutate, rename, summarise,\n",
      "    summarize\n",
      "\n",
      "\n",
      "Loading required package: Matrix\n",
      "\n",
      "Loading required package: Biobase\n",
      "\n",
      "Loading required package: BiocGenerics\n",
      "\n",
      "Loading required package: parallel\n",
      "\n",
      "\n",
      "Attaching package: ‘BiocGenerics’\n",
      "\n",
      "\n",
      "The following objects are masked from ‘package:parallel’:\n",
      "\n",
      "    clusterApply, clusterApplyLB, clusterCall, clusterEvalQ,\n",
      "    clusterExport, clusterMap, parApply, parCapply, parLapply,\n",
      "    parLapplyLB, parRapply, parSapply, parSapplyLB\n",
      "\n",
      "\n",
      "The following object is masked from ‘package:Matrix’:\n",
      "\n",
      "    which\n",
      "\n",
      "\n",
      "The following objects are masked from ‘package:dplyr’:\n",
      "\n",
      "    combine, intersect, setdiff, union\n",
      "\n",
      "\n",
      "The following objects are masked from ‘package:stats’:\n",
      "\n",
      "    IQR, mad, sd, var, xtabs\n",
      "\n",
      "\n",
      "The following objects are masked from ‘package:base’:\n",
      "\n",
      "    anyDuplicated, append, as.data.frame, basename, cbind, colnames,\n",
      "    dirname, do.call, duplicated, eval, evalq, Filter, Find, get, grep,\n",
      "    grepl, intersect, is.unsorted, lapply, Map, mapply, match, mget,\n",
      "    order, paste, pmax, pmax.int, pmin, pmin.int, Position, rank,\n",
      "    rbind, Reduce, rownames, sapply, setdiff, sort, table, tapply,\n",
      "    union, unique, unsplit, which, which.max, which.min\n",
      "\n",
      "\n",
      "Welcome to Bioconductor\n",
      "\n",
      "    Vignettes contain introductory material; view with\n",
      "    'browseVignettes()'. To cite Bioconductor, see\n",
      "    'citation(\"Biobase\")', and for packages 'citation(\"pkgname\")'.\n",
      "\n",
      "\n",
      "Loading required package: VGAM\n",
      "\n",
      "Loading required package: stats4\n",
      "\n",
      "Loading required package: splines\n",
      "\n",
      "Loading required package: DDRTree\n",
      "\n",
      "Loading required package: irlba\n",
      "\n"
     ]
    }
   ],
   "source": [
    "#loading libraries\n",
    "library(RColorBrewer)\n",
    "library(dplyr)\n",
    "library(plyr)\n",
    "library(ggplot2)\n",
    "library(monocle)\n",
    "library(reshape2)\n",
    "library(scales)\n",
    "library(tibble)"
   ]
  },
  {
   "cell_type": "code",
   "execution_count": null,
   "metadata": {},
   "outputs": [],
   "source": []
  },
  {
   "cell_type": "code",
   "execution_count": 2,
   "metadata": {},
   "outputs": [],
   "source": [
    "monocle_theme_opts <- function()\n",
    "{\n",
    "    theme(strip.background = element_rect(colour = 'white', fill = 'white')) +\n",
    "    theme(panel.border = element_blank()) +\n",
    "    theme(axis.line.x = element_line(size=0.25, color=\"black\")) +\n",
    "    theme(axis.line.y = element_line(size=0.25, color=\"black\")) +\n",
    "    theme(panel.grid.minor.x = element_blank(), panel.grid.minor.y = element_blank()) +\n",
    "    theme(panel.grid.major.x = element_blank(), panel.grid.major.y = element_blank()) + \n",
    "    theme(panel.background = element_rect(fill='white')) +\n",
    "    theme(legend.key=element_blank())\n",
    "}"
   ]
  },
  {
   "cell_type": "markdown",
   "metadata": {},
   "source": [
    "Cells were aligned to mouse genome build mm10, and normalized to get FPKM values for all genes. There are 52,545 different gene annotations and 192 cells. First we make 3 different structures holding all of the information on our cells/genes/expression levels. Our phenotype data (pd) is in the sample table, which tells about each cell that was sequenced. Our feature data (fd) is in our gene table, which tells about the genes we alligned our reads to. The expression matrix is in an fpkm table, which has FPKM values for every gene for each cell."
   ]
  },
  {
   "cell_type": "code",
   "execution_count": 3,
   "metadata": {},
   "outputs": [],
   "source": [
    "sample_sheet1=read.delim(\"/net/gs/vol1/home/ame18/Projects/NGS_BuckLab/FPKM_data/2017.11.03.BuckLab/mm10/samples.table\")\n",
    "fpkm_matrix1=read.table(\"/net/gs/vol1/home/ame18/Projects/NGS_BuckLab/FPKM_data/2017.11.03.BuckLab/mm10/genes.fpkm_table\",header=TRUE)\n",
    "gene_annotations1=read.delim(\"/net/gs/vol1/home/ame18/Projects/NGS_BuckLab/FPKM_data/2017.11.03.BuckLab/mm10/genes.attr_table\")\n",
    "sample_sheet1$exp=1"
   ]
  },
  {
   "cell_type": "code",
   "execution_count": 4,
   "metadata": {},
   "outputs": [],
   "source": [
    "pr_sample_sheet1=read.delim(\"/net/gs/vol1/home/ame18/Projects/NGS_BuckLab/FPKM_data/2017.11.03.BuckLab/Pseudorabies/samples.table\")\n",
    "pr_fpkm_matrix=read.table(\"/net/gs/vol1/home/ame18/Projects/NGS_BuckLab/FPKM_data/2017.11.03.BuckLab/Pseudorabies/genes.fpkm_table\")\n",
    "pr_gene_annotations1=read.delim(\"/net/gs/vol1/home/ame18/Projects/NGS_BuckLab/FPKM_data/2017.11.03.BuckLab/Pseudorabies/genes.attr_table\")\n",
    "\n",
    "sample_sheet1$pr=pr_sample_sheet1$total_mass\n"
   ]
  },
  {
   "cell_type": "markdown",
   "metadata": {},
   "source": [
    "Changing the row names of the fpkm_matrix and gene annotations to be the tracking id. \n",
    "Changing the row names of the sample sheet to be the sample id. \n",
    "Then, double checking by making sure that they are all the same. "
   ]
  },
  {
   "cell_type": "code",
   "execution_count": 5,
   "metadata": {},
   "outputs": [],
   "source": [
    "sample_sheet3=read.delim(\"/net/gs/vol1/home/ame18/Projects/NGS_BuckLab/FPKM_data/2017.12.06.buckLab/171130_Mouse/samples.table\")\n",
    "fpkm_matrix3=read.table(\"/net/gs/vol1/home/ame18/Projects/NGS_BuckLab/FPKM_data/2017.12.06.buckLab/171130_Mouse/genes.fpkm_table\",header=TRUE)\n",
    "gene_annotations3=read.delim(\"/net/gs/vol1/home/ame18/Projects/NGS_BuckLab/FPKM_data/2017.12.06.buckLab/171130_Mouse/genes.attr_table\")\n",
    "sample_sheet3$exp=3"
   ]
  },
  {
   "cell_type": "code",
   "execution_count": 6,
   "metadata": {},
   "outputs": [],
   "source": [
    "pr_sample_sheet3=read.delim(\"/net/gs/vol1/home/ame18/Projects/NGS_BuckLab/FPKM_data/2017.12.06.buckLab/171130_Pseudorabies/samples.table\")\n",
    "pr_fpkm_matrix3=read.table(\"/net/gs/vol1/home/ame18/Projects/NGS_BuckLab/FPKM_data/2017.12.06.buckLab/171130_Pseudorabies/genes.fpkm_table\")\n",
    "pr_gene_annotations3=read.delim(\"/net/gs/vol1/home/ame18/Projects/NGS_BuckLab/FPKM_data/2017.12.06.buckLab/171130_Pseudorabies/genes.attr_table\")\n",
    "\n",
    "sample_sheet3$pr=pr_sample_sheet3$total_mass"
   ]
  },
  {
   "cell_type": "code",
   "execution_count": 7,
   "metadata": {},
   "outputs": [],
   "source": [
    "sample_sheet2=read.delim(\"/net/gs/vol1/home/ame18/Projects/NGS_BuckLab/FPKM_data/2017.12.06.buckLab/171102_Mouse/samples.table\")\n",
    "fpkm_matrix2=read.table(\"/net/gs/vol1/home/ame18/Projects/NGS_BuckLab/FPKM_data/2017.12.06.buckLab/171102_Mouse/genes.fpkm_table\",header=TRUE)\n",
    "gene_annotations2=read.delim(\"/net/gs/vol1/home/ame18/Projects/NGS_BuckLab/FPKM_data/2017.12.06.buckLab/171102_Mouse/genes.attr_table\")\n",
    "sample_sheet2$exp=2"
   ]
  },
  {
   "cell_type": "code",
   "execution_count": 8,
   "metadata": {},
   "outputs": [],
   "source": [
    "pr_sample_sheet2=read.delim(\"/net/gs/vol1/home/ame18/Projects/NGS_BuckLab/FPKM_data/2017.12.06.buckLab/171102_Pseudorabies/samples.table\")\n",
    "pr_fpkm_matrix2=read.table(\"/net/gs/vol1/home/ame18/Projects/NGS_BuckLab/FPKM_data/2017.12.06.buckLab/171102_Pseudorabies/genes.fpkm_table\",header=TRUE)\n",
    "pr_gene_annotations2=read.delim(\"/net/gs/vol1/home/ame18/Projects/NGS_BuckLab/FPKM_data/2017.12.06.buckLab/171102_Pseudorabies/genes.attr_table\")\n",
    "\n",
    "sample_sheet2$pr=pr_sample_sheet2$total_mass\n"
   ]
  },
  {
   "cell_type": "code",
   "execution_count": 9,
   "metadata": {},
   "outputs": [],
   "source": [
    "list2=289:384\n",
    "list2=paste(\"q\",list2, \"_0\", sep=\"\")\n",
    "list3=385:480\n",
    "list3=paste(\"q\",list3, \"_0\", sep=\"\")\n",
    "sample_sheet2$sample_id=list2\n",
    "sample_sheet3$sample_id=list3\n",
    "colnames(fpkm_matrix2)=c(\"tracking_id\",list2)\n",
    "colnames(fpkm_matrix3)=c(\"tracking_id\",list3)"
   ]
  },
  {
   "cell_type": "code",
   "execution_count": 10,
   "metadata": {},
   "outputs": [
    {
     "name": "stderr",
     "output_type": "stream",
     "text": [
      "Joining by: tracking_id\n",
      "\n",
      "Joining by: tracking_id\n",
      "\n",
      "Joining by: tracking_id, class_code, nearest_ref_id, gene_id, gene_short_name, tss_id, locus, length\n",
      "\n",
      "Joining by: tracking_id, class_code, nearest_ref_id, gene_id, gene_short_name, tss_id, locus, length\n",
      "\n"
     ]
    }
   ],
   "source": [
    "sample_sheet_merge=merge(sample_sheet1,sample_sheet2,by=c(\"sample_id\",\"file\",\"total_mass\",\"internal_scale\",\"external_scale\",\"exp\",\"pr\"), all.x=TRUE, all.y=TRUE)\n",
    "sample_sheet_merge=merge(sample_sheet_merge,sample_sheet3,by=c(\"sample_id\",\"file\",\"total_mass\",\"internal_scale\",\"external_scale\",\"exp\",\"pr\"), all.x=TRUE, all.y=TRUE)\n",
    "fpkm_matrix_merge=join(fpkm_matrix1,fpkm_matrix2,type=\"left\", match=\"all\")\n",
    "fpkm_matrix_merge=join(fpkm_matrix_merge,fpkm_matrix3,type=\"left\", match=\"all\")\n",
    "gene_annotations_merge=join(gene_annotations1,gene_annotations2,type=\"left\", match=\"all\")\n",
    "gene_annotations_merge=join(gene_annotations_merge,gene_annotations3,type=\"left\", match=\"all\")"
   ]
  },
  {
   "cell_type": "code",
   "execution_count": 11,
   "metadata": {},
   "outputs": [
    {
     "data": {
      "text/html": [
       "<style>\n",
       ".list-inline {list-style: none; margin:0; padding: 0}\n",
       ".list-inline>li {display: inline-block}\n",
       ".list-inline>li:not(:last-child)::after {content: \"\\00b7\"; padding: 0 .5ex}\n",
       "</style>\n",
       "<ol class=list-inline><li>384</li><li>7</li></ol>\n"
      ],
      "text/latex": [
       "\\begin{enumerate*}\n",
       "\\item 384\n",
       "\\item 7\n",
       "\\end{enumerate*}\n"
      ],
      "text/markdown": [
       "1. 384\n",
       "2. 7\n",
       "\n",
       "\n"
      ],
      "text/plain": [
       "[1] 384   7"
      ]
     },
     "metadata": {},
     "output_type": "display_data"
    },
    {
     "data": {
      "text/html": [
       "<style>\n",
       ".list-inline {list-style: none; margin:0; padding: 0}\n",
       ".list-inline>li {display: inline-block}\n",
       ".list-inline>li:not(:last-child)::after {content: \"\\00b7\"; padding: 0 .5ex}\n",
       "</style>\n",
       "<ol class=list-inline><li>52545</li><li>385</li></ol>\n"
      ],
      "text/latex": [
       "\\begin{enumerate*}\n",
       "\\item 52545\n",
       "\\item 385\n",
       "\\end{enumerate*}\n"
      ],
      "text/markdown": [
       "1. 52545\n",
       "2. 385\n",
       "\n",
       "\n"
      ],
      "text/plain": [
       "[1] 52545   385"
      ]
     },
     "metadata": {},
     "output_type": "display_data"
    },
    {
     "data": {
      "text/html": [
       "<style>\n",
       ".list-inline {list-style: none; margin:0; padding: 0}\n",
       ".list-inline>li {display: inline-block}\n",
       ".list-inline>li:not(:last-child)::after {content: \"\\00b7\"; padding: 0 .5ex}\n",
       "</style>\n",
       "<ol class=list-inline><li>52545</li><li>8</li></ol>\n"
      ],
      "text/latex": [
       "\\begin{enumerate*}\n",
       "\\item 52545\n",
       "\\item 8\n",
       "\\end{enumerate*}\n"
      ],
      "text/markdown": [
       "1. 52545\n",
       "2. 8\n",
       "\n",
       "\n"
      ],
      "text/plain": [
       "[1] 52545     8"
      ]
     },
     "metadata": {},
     "output_type": "display_data"
    }
   ],
   "source": [
    "dim(sample_sheet_merge)\n",
    "dim(fpkm_matrix_merge)\n",
    "dim(gene_annotations_merge)"
   ]
  },
  {
   "cell_type": "code",
   "execution_count": null,
   "metadata": {},
   "outputs": [],
   "source": []
  },
  {
   "cell_type": "code",
   "execution_count": null,
   "metadata": {},
   "outputs": [],
   "source": []
  },
  {
   "cell_type": "code",
   "execution_count": 12,
   "metadata": {},
   "outputs": [],
   "source": [
    "row.names(fpkm_matrix_merge) <- fpkm_matrix_merge$tracking_id\n",
    "fpkm_matrix_merge$tracking_id <- NULL\n",
    "row.names(sample_sheet_merge) <- sample_sheet_merge$sample_id"
   ]
  },
  {
   "cell_type": "code",
   "execution_count": 13,
   "metadata": {},
   "outputs": [],
   "source": [
    "sample_sheet_merge=sample_sheet_merge[colnames(fpkm_matrix_merge),]\n"
   ]
  },
  {
   "cell_type": "code",
   "execution_count": 14,
   "metadata": {},
   "outputs": [],
   "source": [
    "row.names(gene_annotations_merge) <- gene_annotations_merge$tracking_id"
   ]
  },
  {
   "cell_type": "code",
   "execution_count": 15,
   "metadata": {},
   "outputs": [
    {
     "data": {
      "text/html": [
       "0"
      ],
      "text/latex": [
       "0"
      ],
      "text/markdown": [
       "0"
      ],
      "text/plain": [
       "[1] 0"
      ]
     },
     "metadata": {},
     "output_type": "display_data"
    },
    {
     "data": {
      "text/html": [
       "0"
      ],
      "text/latex": [
       "0"
      ],
      "text/markdown": [
       "0"
      ],
      "text/plain": [
       "[1] 0"
      ]
     },
     "metadata": {},
     "output_type": "display_data"
    }
   ],
   "source": [
    "sum(row.names(fpkm_matrix_merge) != row.names(gene_annotations_merge))\n",
    "sum(colnames(fpkm_matrix_merge) != row.names(sample_sheet_merge))"
   ]
  },
  {
   "cell_type": "markdown",
   "metadata": {},
   "source": [
    "Making the phenotype data and feature data variables from the sample sheet and the gene annoations"
   ]
  },
  {
   "cell_type": "code",
   "execution_count": 16,
   "metadata": {},
   "outputs": [],
   "source": [
    "fpkm_matrix=fpkm_matrix_merge\n",
    "sample_sheet=sample_sheet_merge\n",
    "gene_annotations=gene_annotations_merge"
   ]
  },
  {
   "cell_type": "code",
   "execution_count": 17,
   "metadata": {},
   "outputs": [],
   "source": [
    "fpkm_matrix_np=fpkm_matrix"
   ]
  },
  {
   "cell_type": "code",
   "execution_count": 18,
   "metadata": {},
   "outputs": [
    {
     "data": {
      "text/html": [
       "<table>\n",
       "<caption>A data.frame: 1 × 67</caption>\n",
       "<thead>\n",
       "\t<tr><th></th><th scope=col>q1_0</th><th scope=col>q4_0</th><th scope=col>q5_0</th><th scope=col>q14_0</th><th scope=col>q57_0</th><th scope=col>q58_0</th><th scope=col>q59_0</th><th scope=col>q63_0</th><th scope=col>q72_0</th><th scope=col>q77_0</th><th scope=col>⋯</th><th scope=col>q457_0</th><th scope=col>q459_0</th><th scope=col>q460_0</th><th scope=col>q465_0</th><th scope=col>q467_0</th><th scope=col>q468_0</th><th scope=col>q470_0</th><th scope=col>q471_0</th><th scope=col>q477_0</th><th scope=col>q479_0</th></tr>\n",
       "\t<tr><th></th><th scope=col>&lt;dbl&gt;</th><th scope=col>&lt;dbl&gt;</th><th scope=col>&lt;dbl&gt;</th><th scope=col>&lt;dbl&gt;</th><th scope=col>&lt;dbl&gt;</th><th scope=col>&lt;dbl&gt;</th><th scope=col>&lt;dbl&gt;</th><th scope=col>&lt;dbl&gt;</th><th scope=col>&lt;dbl&gt;</th><th scope=col>&lt;dbl&gt;</th><th scope=col>⋯</th><th scope=col>&lt;dbl&gt;</th><th scope=col>&lt;dbl&gt;</th><th scope=col>&lt;dbl&gt;</th><th scope=col>&lt;dbl&gt;</th><th scope=col>&lt;dbl&gt;</th><th scope=col>&lt;dbl&gt;</th><th scope=col>&lt;dbl&gt;</th><th scope=col>&lt;dbl&gt;</th><th scope=col>&lt;dbl&gt;</th><th scope=col>&lt;dbl&gt;</th></tr>\n",
       "</thead>\n",
       "<tbody>\n",
       "\t<tr><th scope=row>ENSMUSG00000000001.4</th><td>61.714</td><td>69.8781</td><td>11.7371</td><td>4.177</td><td>70.7159</td><td>0.574283</td><td>0.644965</td><td>0.952525</td><td>27.8556</td><td>2.93307</td><td>⋯</td><td>0.282798</td><td>442.355</td><td>3.49653</td><td>0.552456</td><td>105.085</td><td>0.385328</td><td>28.4083</td><td>16.5067</td><td>29.7938</td><td>4.35283</td></tr>\n",
       "</tbody>\n",
       "</table>\n"
      ],
      "text/latex": [
       "A data.frame: 1 × 67\n",
       "\\begin{tabular}{r|lllllllllllllllllllll}\n",
       "  & q1\\_0 & q4\\_0 & q5\\_0 & q14\\_0 & q57\\_0 & q58\\_0 & q59\\_0 & q63\\_0 & q72\\_0 & q77\\_0 & ⋯ & q457\\_0 & q459\\_0 & q460\\_0 & q465\\_0 & q467\\_0 & q468\\_0 & q470\\_0 & q471\\_0 & q477\\_0 & q479\\_0\\\\\n",
       "  & <dbl> & <dbl> & <dbl> & <dbl> & <dbl> & <dbl> & <dbl> & <dbl> & <dbl> & <dbl> & ⋯ & <dbl> & <dbl> & <dbl> & <dbl> & <dbl> & <dbl> & <dbl> & <dbl> & <dbl> & <dbl>\\\\\n",
       "\\hline\n",
       "\tENSMUSG00000000001.4 & 61.714 & 69.8781 & 11.7371 & 4.177 & 70.7159 & 0.574283 & 0.644965 & 0.952525 & 27.8556 & 2.93307 & ⋯ & 0.282798 & 442.355 & 3.49653 & 0.552456 & 105.085 & 0.385328 & 28.4083 & 16.5067 & 29.7938 & 4.35283\\\\\n",
       "\\end{tabular}\n"
      ],
      "text/markdown": [
       "\n",
       "A data.frame: 1 × 67\n",
       "\n",
       "| <!--/--> | q1_0 &lt;dbl&gt; | q4_0 &lt;dbl&gt; | q5_0 &lt;dbl&gt; | q14_0 &lt;dbl&gt; | q57_0 &lt;dbl&gt; | q58_0 &lt;dbl&gt; | q59_0 &lt;dbl&gt; | q63_0 &lt;dbl&gt; | q72_0 &lt;dbl&gt; | q77_0 &lt;dbl&gt; | ⋯ ⋯ | q457_0 &lt;dbl&gt; | q459_0 &lt;dbl&gt; | q460_0 &lt;dbl&gt; | q465_0 &lt;dbl&gt; | q467_0 &lt;dbl&gt; | q468_0 &lt;dbl&gt; | q470_0 &lt;dbl&gt; | q471_0 &lt;dbl&gt; | q477_0 &lt;dbl&gt; | q479_0 &lt;dbl&gt; |\n",
       "|---|---|---|---|---|---|---|---|---|---|---|---|---|---|---|---|---|---|---|---|---|---|\n",
       "| ENSMUSG00000000001.4 | 61.714 | 69.8781 | 11.7371 | 4.177 | 70.7159 | 0.574283 | 0.644965 | 0.952525 | 27.8556 | 2.93307 | ⋯ | 0.282798 | 442.355 | 3.49653 | 0.552456 | 105.085 | 0.385328 | 28.4083 | 16.5067 | 29.7938 | 4.35283 |\n",
       "\n"
      ],
      "text/plain": [
       "                     q1_0   q4_0    q5_0    q14_0 q57_0   q58_0    q59_0   \n",
       "ENSMUSG00000000001.4 61.714 69.8781 11.7371 4.177 70.7159 0.574283 0.644965\n",
       "                     q63_0    q72_0   q77_0   ⋯ q457_0   q459_0  q460_0 \n",
       "ENSMUSG00000000001.4 0.952525 27.8556 2.93307 ⋯ 0.282798 442.355 3.49653\n",
       "                     q465_0   q467_0  q468_0   q470_0  q471_0  q477_0  q479_0 \n",
       "ENSMUSG00000000001.4 0.552456 105.085 0.385328 28.4083 16.5067 29.7938 4.35283"
      ]
     },
     "metadata": {},
     "output_type": "display_data"
    }
   ],
   "source": [
    "fpkm_matrix[1,which(fpkm_matrix[1,]>0)]"
   ]
  },
  {
   "cell_type": "code",
   "execution_count": 19,
   "metadata": {},
   "outputs": [],
   "source": [
    "fpkm_matrix[fpkm_matrix < .1] <- 0"
   ]
  },
  {
   "cell_type": "code",
   "execution_count": 20,
   "metadata": {},
   "outputs": [
    {
     "data": {
      "text/html": [
       "<table>\n",
       "<caption>A data.frame: 6 × 384</caption>\n",
       "<thead>\n",
       "\t<tr><th></th><th scope=col>q1_0</th><th scope=col>q2_0</th><th scope=col>q3_0</th><th scope=col>q4_0</th><th scope=col>q5_0</th><th scope=col>q6_0</th><th scope=col>q7_0</th><th scope=col>q8_0</th><th scope=col>q9_0</th><th scope=col>q10_0</th><th scope=col>⋯</th><th scope=col>q471_0</th><th scope=col>q472_0</th><th scope=col>q473_0</th><th scope=col>q474_0</th><th scope=col>q475_0</th><th scope=col>q476_0</th><th scope=col>q477_0</th><th scope=col>q478_0</th><th scope=col>q479_0</th><th scope=col>q480_0</th></tr>\n",
       "\t<tr><th></th><th scope=col>&lt;dbl&gt;</th><th scope=col>&lt;dbl&gt;</th><th scope=col>&lt;dbl&gt;</th><th scope=col>&lt;dbl&gt;</th><th scope=col>&lt;dbl&gt;</th><th scope=col>&lt;dbl&gt;</th><th scope=col>&lt;dbl&gt;</th><th scope=col>&lt;dbl&gt;</th><th scope=col>&lt;dbl&gt;</th><th scope=col>&lt;dbl&gt;</th><th scope=col>⋯</th><th scope=col>&lt;dbl&gt;</th><th scope=col>&lt;dbl&gt;</th><th scope=col>&lt;dbl&gt;</th><th scope=col>&lt;dbl&gt;</th><th scope=col>&lt;dbl&gt;</th><th scope=col>&lt;dbl&gt;</th><th scope=col>&lt;dbl&gt;</th><th scope=col>&lt;dbl&gt;</th><th scope=col>&lt;dbl&gt;</th><th scope=col>&lt;dbl&gt;</th></tr>\n",
       "</thead>\n",
       "<tbody>\n",
       "\t<tr><th scope=row>ENSMUSG00000000001.4</th><td>61.714</td><td>0</td><td>0</td><td>69.8781</td><td>11.7371</td><td>0</td><td>0</td><td>0</td><td>0</td><td>0</td><td>⋯</td><td>16.5067</td><td>0</td><td>0</td><td>0</td><td>0</td><td>0</td><td>29.7938</td><td>0</td><td>4.35283</td><td>0</td></tr>\n",
       "\t<tr><th scope=row>ENSMUSG00000000003.15</th><td> 0.000</td><td>0</td><td>0</td><td> 0.0000</td><td> 0.0000</td><td>0</td><td>0</td><td>0</td><td>0</td><td>0</td><td>⋯</td><td> 0.0000</td><td>0</td><td>0</td><td>0</td><td>0</td><td>0</td><td> 0.0000</td><td>0</td><td>0.00000</td><td>0</td></tr>\n",
       "\t<tr><th scope=row>ENSMUSG00000000028.14</th><td> 0.000</td><td>0</td><td>0</td><td> 0.0000</td><td> 0.0000</td><td>0</td><td>0</td><td>0</td><td>0</td><td>0</td><td>⋯</td><td> 0.0000</td><td>0</td><td>0</td><td>0</td><td>0</td><td>0</td><td> 0.0000</td><td>0</td><td>0.00000</td><td>0</td></tr>\n",
       "\t<tr><th scope=row>ENSMUSG00000000031.15</th><td> 0.000</td><td>0</td><td>0</td><td> 0.0000</td><td> 0.0000</td><td>0</td><td>0</td><td>0</td><td>0</td><td>0</td><td>⋯</td><td> 0.0000</td><td>0</td><td>0</td><td>0</td><td>0</td><td>0</td><td> 0.0000</td><td>0</td><td>0.00000</td><td>0</td></tr>\n",
       "\t<tr><th scope=row>ENSMUSG00000000037.16</th><td> 0.000</td><td>0</td><td>0</td><td> 0.0000</td><td> 0.0000</td><td>0</td><td>0</td><td>0</td><td>0</td><td>0</td><td>⋯</td><td> 0.0000</td><td>0</td><td>0</td><td>0</td><td>0</td><td>0</td><td> 0.0000</td><td>0</td><td>0.00000</td><td>0</td></tr>\n",
       "\t<tr><th scope=row>ENSMUSG00000000049.11</th><td> 0.000</td><td>0</td><td>0</td><td> 0.0000</td><td> 0.0000</td><td>0</td><td>0</td><td>0</td><td>0</td><td>0</td><td>⋯</td><td> 0.0000</td><td>0</td><td>0</td><td>0</td><td>0</td><td>0</td><td> 0.0000</td><td>0</td><td>0.00000</td><td>0</td></tr>\n",
       "</tbody>\n",
       "</table>\n"
      ],
      "text/latex": [
       "A data.frame: 6 × 384\n",
       "\\begin{tabular}{r|lllllllllllllllllllll}\n",
       "  & q1\\_0 & q2\\_0 & q3\\_0 & q4\\_0 & q5\\_0 & q6\\_0 & q7\\_0 & q8\\_0 & q9\\_0 & q10\\_0 & ⋯ & q471\\_0 & q472\\_0 & q473\\_0 & q474\\_0 & q475\\_0 & q476\\_0 & q477\\_0 & q478\\_0 & q479\\_0 & q480\\_0\\\\\n",
       "  & <dbl> & <dbl> & <dbl> & <dbl> & <dbl> & <dbl> & <dbl> & <dbl> & <dbl> & <dbl> & ⋯ & <dbl> & <dbl> & <dbl> & <dbl> & <dbl> & <dbl> & <dbl> & <dbl> & <dbl> & <dbl>\\\\\n",
       "\\hline\n",
       "\tENSMUSG00000000001.4 & 61.714 & 0 & 0 & 69.8781 & 11.7371 & 0 & 0 & 0 & 0 & 0 & ⋯ & 16.5067 & 0 & 0 & 0 & 0 & 0 & 29.7938 & 0 & 4.35283 & 0\\\\\n",
       "\tENSMUSG00000000003.15 &  0.000 & 0 & 0 &  0.0000 &  0.0000 & 0 & 0 & 0 & 0 & 0 & ⋯ &  0.0000 & 0 & 0 & 0 & 0 & 0 &  0.0000 & 0 & 0.00000 & 0\\\\\n",
       "\tENSMUSG00000000028.14 &  0.000 & 0 & 0 &  0.0000 &  0.0000 & 0 & 0 & 0 & 0 & 0 & ⋯ &  0.0000 & 0 & 0 & 0 & 0 & 0 &  0.0000 & 0 & 0.00000 & 0\\\\\n",
       "\tENSMUSG00000000031.15 &  0.000 & 0 & 0 &  0.0000 &  0.0000 & 0 & 0 & 0 & 0 & 0 & ⋯ &  0.0000 & 0 & 0 & 0 & 0 & 0 &  0.0000 & 0 & 0.00000 & 0\\\\\n",
       "\tENSMUSG00000000037.16 &  0.000 & 0 & 0 &  0.0000 &  0.0000 & 0 & 0 & 0 & 0 & 0 & ⋯ &  0.0000 & 0 & 0 & 0 & 0 & 0 &  0.0000 & 0 & 0.00000 & 0\\\\\n",
       "\tENSMUSG00000000049.11 &  0.000 & 0 & 0 &  0.0000 &  0.0000 & 0 & 0 & 0 & 0 & 0 & ⋯ &  0.0000 & 0 & 0 & 0 & 0 & 0 &  0.0000 & 0 & 0.00000 & 0\\\\\n",
       "\\end{tabular}\n"
      ],
      "text/markdown": [
       "\n",
       "A data.frame: 6 × 384\n",
       "\n",
       "| <!--/--> | q1_0 &lt;dbl&gt; | q2_0 &lt;dbl&gt; | q3_0 &lt;dbl&gt; | q4_0 &lt;dbl&gt; | q5_0 &lt;dbl&gt; | q6_0 &lt;dbl&gt; | q7_0 &lt;dbl&gt; | q8_0 &lt;dbl&gt; | q9_0 &lt;dbl&gt; | q10_0 &lt;dbl&gt; | ⋯ ⋯ | q471_0 &lt;dbl&gt; | q472_0 &lt;dbl&gt; | q473_0 &lt;dbl&gt; | q474_0 &lt;dbl&gt; | q475_0 &lt;dbl&gt; | q476_0 &lt;dbl&gt; | q477_0 &lt;dbl&gt; | q478_0 &lt;dbl&gt; | q479_0 &lt;dbl&gt; | q480_0 &lt;dbl&gt; |\n",
       "|---|---|---|---|---|---|---|---|---|---|---|---|---|---|---|---|---|---|---|---|---|---|\n",
       "| ENSMUSG00000000001.4 | 61.714 | 0 | 0 | 69.8781 | 11.7371 | 0 | 0 | 0 | 0 | 0 | ⋯ | 16.5067 | 0 | 0 | 0 | 0 | 0 | 29.7938 | 0 | 4.35283 | 0 |\n",
       "| ENSMUSG00000000003.15 |  0.000 | 0 | 0 |  0.0000 |  0.0000 | 0 | 0 | 0 | 0 | 0 | ⋯ |  0.0000 | 0 | 0 | 0 | 0 | 0 |  0.0000 | 0 | 0.00000 | 0 |\n",
       "| ENSMUSG00000000028.14 |  0.000 | 0 | 0 |  0.0000 |  0.0000 | 0 | 0 | 0 | 0 | 0 | ⋯ |  0.0000 | 0 | 0 | 0 | 0 | 0 |  0.0000 | 0 | 0.00000 | 0 |\n",
       "| ENSMUSG00000000031.15 |  0.000 | 0 | 0 |  0.0000 |  0.0000 | 0 | 0 | 0 | 0 | 0 | ⋯ |  0.0000 | 0 | 0 | 0 | 0 | 0 |  0.0000 | 0 | 0.00000 | 0 |\n",
       "| ENSMUSG00000000037.16 |  0.000 | 0 | 0 |  0.0000 |  0.0000 | 0 | 0 | 0 | 0 | 0 | ⋯ |  0.0000 | 0 | 0 | 0 | 0 | 0 |  0.0000 | 0 | 0.00000 | 0 |\n",
       "| ENSMUSG00000000049.11 |  0.000 | 0 | 0 |  0.0000 |  0.0000 | 0 | 0 | 0 | 0 | 0 | ⋯ |  0.0000 | 0 | 0 | 0 | 0 | 0 |  0.0000 | 0 | 0.00000 | 0 |\n",
       "\n"
      ],
      "text/plain": [
       "                      q1_0   q2_0 q3_0 q4_0    q5_0    q6_0 q7_0 q8_0 q9_0\n",
       "ENSMUSG00000000001.4  61.714 0    0    69.8781 11.7371 0    0    0    0   \n",
       "ENSMUSG00000000003.15  0.000 0    0     0.0000  0.0000 0    0    0    0   \n",
       "ENSMUSG00000000028.14  0.000 0    0     0.0000  0.0000 0    0    0    0   \n",
       "ENSMUSG00000000031.15  0.000 0    0     0.0000  0.0000 0    0    0    0   \n",
       "ENSMUSG00000000037.16  0.000 0    0     0.0000  0.0000 0    0    0    0   \n",
       "ENSMUSG00000000049.11  0.000 0    0     0.0000  0.0000 0    0    0    0   \n",
       "                      q10_0 ⋯ q471_0  q472_0 q473_0 q474_0 q475_0 q476_0\n",
       "ENSMUSG00000000001.4  0     ⋯ 16.5067 0      0      0      0      0     \n",
       "ENSMUSG00000000003.15 0     ⋯  0.0000 0      0      0      0      0     \n",
       "ENSMUSG00000000028.14 0     ⋯  0.0000 0      0      0      0      0     \n",
       "ENSMUSG00000000031.15 0     ⋯  0.0000 0      0      0      0      0     \n",
       "ENSMUSG00000000037.16 0     ⋯  0.0000 0      0      0      0      0     \n",
       "ENSMUSG00000000049.11 0     ⋯  0.0000 0      0      0      0      0     \n",
       "                      q477_0  q478_0 q479_0  q480_0\n",
       "ENSMUSG00000000001.4  29.7938 0      4.35283 0     \n",
       "ENSMUSG00000000003.15  0.0000 0      0.00000 0     \n",
       "ENSMUSG00000000028.14  0.0000 0      0.00000 0     \n",
       "ENSMUSG00000000031.15  0.0000 0      0.00000 0     \n",
       "ENSMUSG00000000037.16  0.0000 0      0.00000 0     \n",
       "ENSMUSG00000000049.11  0.0000 0      0.00000 0     "
      ]
     },
     "metadata": {},
     "output_type": "display_data"
    }
   ],
   "source": [
    "head(fpkm_matrix)"
   ]
  },
  {
   "cell_type": "code",
   "execution_count": 21,
   "metadata": {},
   "outputs": [],
   "source": [
    "pd <- new(\"AnnotatedDataFrame\", data = sample_sheet)\n",
    "fd <- new(\"AnnotatedDataFrame\", data = gene_annotations)"
   ]
  },
  {
   "cell_type": "code",
   "execution_count": 22,
   "metadata": {},
   "outputs": [],
   "source": [
    "cds <- new(\"CellDataSet\", exprs = as.matrix(fpkm_matrix),\n",
    "    phenoData = pd, featureData = fd)"
   ]
  },
  {
   "cell_type": "code",
   "execution_count": 23,
   "metadata": {},
   "outputs": [],
   "source": [
    "col_list=c(164,163,103,177,115,136,397,351,125,70,187,398,98,117,96,110,171,182,343,13,176,80,72,77,448,151,178,3,455,86,466,166,168,46,316,24,69,293,11,132,175,153,400,139,433,87,88,56,338,438,183,33,37,89,29,35,63,155,31,126,28,73,95,180,138,378,320,411,105,451,391,386,53,435,432,445,456,8,423,101,349,145,38,156,152,443,108,68,66,373,71,364,468,23,109,34,420,464,61,367,42,191,128,141,137,437,65,146,107,326,121,123,190,127,295,22,99,154,454,133,135,363,122,334)"
   ]
  },
  {
   "cell_type": "code",
   "execution_count": 24,
   "metadata": {},
   "outputs": [],
   "source": [
    "pData(cds)$Naresh_neurons=\"NO\"\n"
   ]
  },
  {
   "cell_type": "code",
   "execution_count": 25,
   "metadata": {},
   "outputs": [],
   "source": [
    "pData(cds)$Subtype=\"Unknown\""
   ]
  },
  {
   "cell_type": "code",
   "execution_count": 26,
   "metadata": {},
   "outputs": [],
   "source": [
    "list_astro=c(\"q9_0\", \"q15_0\", \"q20_0\", \"q22_0\", \"q34_0\", \"q46_0\", \"q54_0\", \"q56_0\", \"q58_0\", \"q71_0\", \"q76_0\", \"q89_0\", \"q92_0\", \"q97_0\", \"q105_0\", \"q138_0\", \"q140_0\", \"q144_0\", \"q150_0\", \"q187_0\", \"q297_0\", \"q304_0\", \"q332_0\", \"q350_0\", \"q360_0\", \"q366_0\", \"q385_0\", \"q388_0\", \"q401_0\", \"q403_0\", \"q404_0\", \"q408_0\", \"q418_0\", \"q421_0\", \"q425_0\", \"q430_0\")\n",
    "list_glia=c(\"q90_0\", \"q101_0\", \"q127_0\", \"q143_0\", \"q146_0\", \"q182_0\", \"q380_0\", \"q389_0\", \"q399_0\", \"q405_0\", \"q436_0\", \"q446_0\", \"q450_0\", \"q458_0\", \"q462_0\", \"q467_0\", \"q471_0\", \"q475_0\", \"q476_0\", \"q480_0\")\n"
   ]
  },
  {
   "cell_type": "code",
   "execution_count": 27,
   "metadata": {},
   "outputs": [
    {
     "data": {
      "text/html": [
       "117"
      ],
      "text/latex": [
       "117"
      ],
      "text/markdown": [
       "117"
      ],
      "text/plain": [
       "[1] 117"
      ]
     },
     "metadata": {},
     "output_type": "display_data"
    }
   ],
   "source": [
    "list_neurons=c(\"q73_0\",\"q72_0\",\"q6_0\",\"q87_0\",\"q19_0\",\"q42_0\",\"q397_0\",\"q351_0\",\"q30_0\",\"q161_0\",\"q98_0\",\"q398_0\",\"q191_0\",\"q21_0\",\"q189_0\",\"q14_0\",\"q81_0\",\"q93_0\",\"q343_0\",\"q35_0\",\"q86_0\",\"q172_0\",\"q163_0\",\"q168_0\",\"q448_0\",\"q59_0\",\"q88_0\",\"q116_0\",\"q455_0\",\"q178_0\",\"q466_0\",\"q75_0\",\"q77_0\",\"q134_0\",\"q316_0\",\"q110_0\",\"q293_0\",\"q13_0\",\"q38_0\",\"q85_0\",\"q61_0\",\"q400_0\",\"q45_0\",\"q433_0\",\"q179_0\",\"q180_0\",\"q145_0\",\"q338_0\",\"q438_0\",\"q94_0\",\"q120_0\",\"q124_0\",\"q181_0\",\"q115_0\",\"q122_0\",\"q153_0\",\"q63_0\",\"q118_0\",\"q31_0\",\"q114_0\",\"q164_0\",\"q188_0\",\"q91_0\",\"q44_0\",\"q378_0\",\"q320_0\",\"q411_0\",\"q8_0\",\"q451_0\",\"q391_0\",\"q386_0\",\"q142_0\",\"q435_0\",\"q432_0\",\"q445_0\",\"q456_0\",\"q171_0\",\"q423_0\",\"q4_0\",\"q349_0\",\"q52_0\",\"q125_0\",\"q64_0\",\"q60_0\",\"q443_0\",\"q158_0\",\"q156_0\",\"q373_0\",\"q162_0\",\"q364_0\",\"q468_0\",\"q12_0\",\"q121_0\",\"q420_0\",\"q464_0\",\"q151_0\",\"q367_0\",\"q130_0\",\"q103_0\",\"q33_0\",\"q43_0\",\"q437_0\",\"q155_0\",\"q53_0\",\"q26_0\",\"q28_0\",\"q102_0\",\"q32_0\",\"q295_0\",\"q108_0\",\"q192_0\",\"q62_0\",\"q454_0\",\"q39_0\",\"q363_0\",\"q27_0\",\"q334_0\")\n",
    "length(list_neurons)"
   ]
  },
  {
   "cell_type": "code",
   "execution_count": 28,
   "metadata": {},
   "outputs": [],
   "source": [
    "for(i in list_neurons){\n",
    "     pData(cds)[which(pData(cds)$sample_id==i),]$Naresh_neurons<-'YES'\n",
    "}"
   ]
  },
  {
   "cell_type": "code",
   "execution_count": 29,
   "metadata": {},
   "outputs": [],
   "source": [
    "fpkm_data=fpkm_matrix[,list_neurons]\n",
    "fpkm_data_np=fpkm_matrix_np[,list_neurons]\n"
   ]
  },
  {
   "cell_type": "code",
   "execution_count": 30,
   "metadata": {},
   "outputs": [
    {
     "data": {
      "text/html": [
       "<style>\n",
       ".list-inline {list-style: none; margin:0; padding: 0}\n",
       ".list-inline>li {display: inline-block}\n",
       ".list-inline>li:not(:last-child)::after {content: \"\\00b7\"; padding: 0 .5ex}\n",
       "</style>\n",
       "<ol class=list-inline><li>52545</li><li>117</li></ol>\n"
      ],
      "text/latex": [
       "\\begin{enumerate*}\n",
       "\\item 52545\n",
       "\\item 117\n",
       "\\end{enumerate*}\n"
      ],
      "text/markdown": [
       "1. 52545\n",
       "2. 117\n",
       "\n",
       "\n"
      ],
      "text/plain": [
       "[1] 52545   117"
      ]
     },
     "metadata": {},
     "output_type": "display_data"
    }
   ],
   "source": [
    "dim(fpkm_data_np)"
   ]
  },
  {
   "cell_type": "code",
   "execution_count": 31,
   "metadata": {},
   "outputs": [],
   "source": [
    "#microglia_rownames=row.names(subset(pData(cds), CellType==\"Microglia\"))\n",
    "cds_neurons=cds[,pData(cds)$Naresh_neurons==\"YES\"]\n"
   ]
  },
  {
   "cell_type": "code",
   "execution_count": 32,
   "metadata": {},
   "outputs": [],
   "source": [
    "fpkm_data_astro=fpkm_matrix_np[,list_astro]\n",
    "fpkm_data_glia=fpkm_matrix_np[,list_glia]"
   ]
  },
  {
   "cell_type": "code",
   "execution_count": null,
   "metadata": {},
   "outputs": [],
   "source": []
  },
  {
   "cell_type": "code",
   "execution_count": 33,
   "metadata": {},
   "outputs": [],
   "source": [
    "data_df=data.frame(rep(0,117))"
   ]
  },
  {
   "cell_type": "code",
   "execution_count": 34,
   "metadata": {},
   "outputs": [],
   "source": [
    "marker_genes <- row.names(subset(fData(cds_neurons),\n",
    "                   gene_short_name %in% c(np_list=c(\"Adcyap1\",\"Adipoq\",\"Adm\",\"Adm2\",\"Agrp\",\"Agt\",\"Apln\",\"Avp\",\"Calca\",\"Calcb\",\"Cartpt\",\"Cbln1\",\"Cbln2\",\"Cbln3\",\"Cbln4\",\"Cck\",\"Chat\",\"Crh\",\"Dbh\",\"Ddc\",\"Edn1\",\"Edn2\",\"Edn3\",\"Gal\",\"Galp\",\"Gast\",\"Ghrh\",\"Ghrl\",\"Gip\",\"Gnrh1\",\"Grp\",\"Hdc\",\"Iapp\",\"Igf1\",\"Igf2\",\"Kiss1\",\"Kng1\",\"Lep\",\"Napepld\",\"Nmb\",\"Nms\",\"Nmu\",\"Nos1\",\"Npb\",\"Npff\",\"Nppa\",\"Nppb\",\"Nppc\",\"Nps\",\"Npw\",\"Npy\",\"Nts\",\"Nucb2\",\"Oxt\",\"Pdyn\",\"Penk\",\"Pmch\",\"Pnmt\",\"Pnoc\",\"Pomc\",\"Ppy\",\"Prl\",\"Prlh\",\"Pthlh\",\"Pyy\",\"Qrfp\",\"Retn\",\"Rln1\",\"Slc6a2\",\"Slc6a3\",\"Sst\",\"Tac1\",\"Tac2\",\"Th\",\"Trh\",\"Ucn\",\"Ucn2\",\"Ucn3\",\"Uts2\",\"Vip\"))))\n",
    "marker_names=c(np_list=c(\"Adcyap1\",\"Adipoq\",\"Adm\",\"Adm2\",\"Agrp\",\"Agt\",\"Apln\",\"Avp\",\"Calca\",\"Calcb\",\"Cartpt\",\"Cbln1\",\"Cbln2\",\"Cbln3\",\"Cbln4\",\"Cck\",\"Chat\",\"Crh\",\"Dbh\",\"Ddc\",\"Edn1\",\"Edn2\",\"Edn3\",\"Gal\",\"Galp\",\"Gast\",\"Ghrh\",\"Ghrl\",\"Gip\",\"Gnrh1\",\"Grp\",\"Hdc\",\"Iapp\",\"Igf1\",\"Igf2\",\"Kiss1\",\"Kng1\",\"Lep\",\"Napepld\",\"Nmb\",\"Nms\",\"Nmu\",\"Nos1\",\"Npb\",\"Npff\",\"Nppa\",\"Nppb\",\"Nppc\",\"Nps\",\"Npw\",\"Npy\",\"Nts\",\"Nucb2\",\"Oxt\",\"Pdyn\",\"Penk\",\"Pmch\",\"Pnmt\",\"Pnoc\",\"Pomc\",\"Ppy\",\"Prl\",\"Prlh\",\"Pthlh\",\"Pyy\",\"Qrfp\",\"Retn\",\"Rln1\",\"Slc6a2\",\"Slc6a3\",\"Sst\",\"Tac1\",\"Tac2\",\"Th\",\"Trh\",\"Ucn\",\"Ucn2\",\"Ucn3\",\"Uts2\",\"Vip\"))\n",
    "new_order=order(marker_names)\n",
    "marker_genes_ordered=marker_genes[new_order]\n",
    "marker_names_ordered=marker_names[new_order]"
   ]
  },
  {
   "cell_type": "code",
   "execution_count": 35,
   "metadata": {},
   "outputs": [],
   "source": [
    "write.csv(fpkm_data,\"fpkm_data.csv\")"
   ]
  },
  {
   "cell_type": "code",
   "execution_count": 36,
   "metadata": {},
   "outputs": [],
   "source": [
    "cell_list=sort(colnames(fpkm_data))"
   ]
  },
  {
   "cell_type": "code",
   "execution_count": 37,
   "metadata": {},
   "outputs": [],
   "source": [
    "i=1\n",
    "for(a in marker_genes_ordered){\n",
    "    list=fpkm_data[which(fData(cds_neurons)$tracking_id==a),]\n",
    "        for(b in 1:length(list)){\n",
    "            if(list[b]>0){\n",
    "                list[b]=1\n",
    "                }\n",
    "            else{\n",
    "                    list[b]=0\n",
    "                }\n",
    "        }\n",
    " \n",
    "    data_df[,i]=t(list)\n",
    "    i=i+1\n",
    "}"
   ]
  },
  {
   "cell_type": "code",
   "execution_count": 38,
   "metadata": {},
   "outputs": [
    {
     "data": {
      "text/html": [
       "80"
      ],
      "text/latex": [
       "80"
      ],
      "text/markdown": [
       "80"
      ],
      "text/plain": [
       "[1] 80"
      ]
     },
     "metadata": {},
     "output_type": "display_data"
    },
    {
     "data": {
      "text/html": [
       "80"
      ],
      "text/latex": [
       "80"
      ],
      "text/markdown": [
       "80"
      ],
      "text/plain": [
       "[1] 80"
      ]
     },
     "metadata": {},
     "output_type": "display_data"
    }
   ],
   "source": [
    "length(marker_genes_ordered)\n",
    "length(marker_names_ordered)"
   ]
  },
  {
   "cell_type": "code",
   "execution_count": null,
   "metadata": {},
   "outputs": [],
   "source": []
  },
  {
   "cell_type": "code",
   "execution_count": 39,
   "metadata": {},
   "outputs": [
    {
     "data": {
      "text/html": [
       "<table>\n",
       "<caption>A data.frame: 10 × 10</caption>\n",
       "<thead>\n",
       "\t<tr><th></th><th scope=col>rep.0..117.</th><th scope=col>V2</th><th scope=col>V3</th><th scope=col>V4</th><th scope=col>V5</th><th scope=col>V6</th><th scope=col>V7</th><th scope=col>V8</th><th scope=col>V9</th><th scope=col>V10</th></tr>\n",
       "\t<tr><th></th><th scope=col>&lt;dbl[,1]&gt;</th><th scope=col>&lt;dbl[,1]&gt;</th><th scope=col>&lt;dbl[,1]&gt;</th><th scope=col>&lt;dbl[,1]&gt;</th><th scope=col>&lt;dbl[,1]&gt;</th><th scope=col>&lt;dbl[,1]&gt;</th><th scope=col>&lt;dbl[,1]&gt;</th><th scope=col>&lt;dbl[,1]&gt;</th><th scope=col>&lt;dbl[,1]&gt;</th><th scope=col>&lt;dbl[,1]&gt;</th></tr>\n",
       "</thead>\n",
       "<tbody>\n",
       "\t<tr><th scope=row>1</th><td>0</td><td>0</td><td>0</td><td>0</td><td>0</td><td>0</td><td>0</td><td>0</td><td>0</td><td>0</td></tr>\n",
       "\t<tr><th scope=row>2</th><td>1</td><td>0</td><td>0</td><td>0</td><td>0</td><td>0</td><td>0</td><td>0</td><td>0</td><td>0</td></tr>\n",
       "\t<tr><th scope=row>3</th><td>0</td><td>0</td><td>0</td><td>0</td><td>1</td><td>0</td><td>0</td><td>0</td><td>0</td><td>0</td></tr>\n",
       "\t<tr><th scope=row>4</th><td>0</td><td>0</td><td>0</td><td>0</td><td>0</td><td>0</td><td>0</td><td>0</td><td>0</td><td>0</td></tr>\n",
       "\t<tr><th scope=row>5</th><td>0</td><td>0</td><td>0</td><td>0</td><td>1</td><td>0</td><td>0</td><td>0</td><td>0</td><td>0</td></tr>\n",
       "\t<tr><th scope=row>6</th><td>0</td><td>0</td><td>0</td><td>0</td><td>0</td><td>0</td><td>0</td><td>0</td><td>0</td><td>0</td></tr>\n",
       "\t<tr><th scope=row>7</th><td>0</td><td>0</td><td>0</td><td>0</td><td>0</td><td>0</td><td>0</td><td>0</td><td>0</td><td>0</td></tr>\n",
       "\t<tr><th scope=row>8</th><td>0</td><td>0</td><td>0</td><td>0</td><td>0</td><td>0</td><td>0</td><td>0</td><td>0</td><td>0</td></tr>\n",
       "\t<tr><th scope=row>9</th><td>0</td><td>0</td><td>0</td><td>0</td><td>0</td><td>0</td><td>0</td><td>0</td><td>0</td><td>0</td></tr>\n",
       "\t<tr><th scope=row>10</th><td>0</td><td>0</td><td>0</td><td>0</td><td>0</td><td>0</td><td>0</td><td>0</td><td>0</td><td>0</td></tr>\n",
       "</tbody>\n",
       "</table>\n"
      ],
      "text/latex": [
       "A data.frame: 10 × 10\n",
       "\\begin{tabular}{r|llllllllll}\n",
       "  & rep.0..117. & V2 & V3 & V4 & V5 & V6 & V7 & V8 & V9 & V10\\\\\n",
       "  & <dbl{[},1{]}> & <dbl{[},1{]}> & <dbl{[},1{]}> & <dbl{[},1{]}> & <dbl{[},1{]}> & <dbl{[},1{]}> & <dbl{[},1{]}> & <dbl{[},1{]}> & <dbl{[},1{]}> & <dbl{[},1{]}>\\\\\n",
       "\\hline\n",
       "\t1 & 0 & 0 & 0 & 0 & 0 & 0 & 0 & 0 & 0 & 0\\\\\n",
       "\t2 & 1 & 0 & 0 & 0 & 0 & 0 & 0 & 0 & 0 & 0\\\\\n",
       "\t3 & 0 & 0 & 0 & 0 & 1 & 0 & 0 & 0 & 0 & 0\\\\\n",
       "\t4 & 0 & 0 & 0 & 0 & 0 & 0 & 0 & 0 & 0 & 0\\\\\n",
       "\t5 & 0 & 0 & 0 & 0 & 1 & 0 & 0 & 0 & 0 & 0\\\\\n",
       "\t6 & 0 & 0 & 0 & 0 & 0 & 0 & 0 & 0 & 0 & 0\\\\\n",
       "\t7 & 0 & 0 & 0 & 0 & 0 & 0 & 0 & 0 & 0 & 0\\\\\n",
       "\t8 & 0 & 0 & 0 & 0 & 0 & 0 & 0 & 0 & 0 & 0\\\\\n",
       "\t9 & 0 & 0 & 0 & 0 & 0 & 0 & 0 & 0 & 0 & 0\\\\\n",
       "\t10 & 0 & 0 & 0 & 0 & 0 & 0 & 0 & 0 & 0 & 0\\\\\n",
       "\\end{tabular}\n"
      ],
      "text/markdown": [
       "\n",
       "A data.frame: 10 × 10\n",
       "\n",
       "| <!--/--> | rep.0..117. &lt;dbl[,1]&gt; | V2 &lt;dbl[,1]&gt; | V3 &lt;dbl[,1]&gt; | V4 &lt;dbl[,1]&gt; | V5 &lt;dbl[,1]&gt; | V6 &lt;dbl[,1]&gt; | V7 &lt;dbl[,1]&gt; | V8 &lt;dbl[,1]&gt; | V9 &lt;dbl[,1]&gt; | V10 &lt;dbl[,1]&gt; |\n",
       "|---|---|---|---|---|---|---|---|---|---|---|\n",
       "| 1 | 0 | 0 | 0 | 0 | 0 | 0 | 0 | 0 | 0 | 0 |\n",
       "| 2 | 1 | 0 | 0 | 0 | 0 | 0 | 0 | 0 | 0 | 0 |\n",
       "| 3 | 0 | 0 | 0 | 0 | 1 | 0 | 0 | 0 | 0 | 0 |\n",
       "| 4 | 0 | 0 | 0 | 0 | 0 | 0 | 0 | 0 | 0 | 0 |\n",
       "| 5 | 0 | 0 | 0 | 0 | 1 | 0 | 0 | 0 | 0 | 0 |\n",
       "| 6 | 0 | 0 | 0 | 0 | 0 | 0 | 0 | 0 | 0 | 0 |\n",
       "| 7 | 0 | 0 | 0 | 0 | 0 | 0 | 0 | 0 | 0 | 0 |\n",
       "| 8 | 0 | 0 | 0 | 0 | 0 | 0 | 0 | 0 | 0 | 0 |\n",
       "| 9 | 0 | 0 | 0 | 0 | 0 | 0 | 0 | 0 | 0 | 0 |\n",
       "| 10 | 0 | 0 | 0 | 0 | 0 | 0 | 0 | 0 | 0 | 0 |\n",
       "\n"
      ],
      "text/plain": [
       "   rep.0..117. V2 V3 V4 V5 V6 V7 V8 V9 V10\n",
       "1  0           0  0  0  0  0  0  0  0  0  \n",
       "2  1           0  0  0  0  0  0  0  0  0  \n",
       "3  0           0  0  0  1  0  0  0  0  0  \n",
       "4  0           0  0  0  0  0  0  0  0  0  \n",
       "5  0           0  0  0  1  0  0  0  0  0  \n",
       "6  0           0  0  0  0  0  0  0  0  0  \n",
       "7  0           0  0  0  0  0  0  0  0  0  \n",
       "8  0           0  0  0  0  0  0  0  0  0  \n",
       "9  0           0  0  0  0  0  0  0  0  0  \n",
       "10 0           0  0  0  0  0  0  0  0  0  "
      ]
     },
     "metadata": {},
     "output_type": "display_data"
    }
   ],
   "source": [
    "data_df[1:10,1:10]"
   ]
  },
  {
   "cell_type": "code",
   "execution_count": 40,
   "metadata": {},
   "outputs": [
    {
     "data": {
      "text/plain": [
       "CellDataSet (storageMode: lockedEnvironment)\n",
       "assayData: 52545 features, 117 samples \n",
       "  element names: exprs \n",
       "protocolData: none\n",
       "phenoData\n",
       "  sampleNames: q4_0 q6_0 ... q468_0 (117 total)\n",
       "  varLabels: sample_id file ... Subtype (9 total)\n",
       "  varMetadata: labelDescription\n",
       "featureData\n",
       "  featureNames: ENSMUSG00000000001.4 ENSMUSG00000000003.15 ...\n",
       "    ENSMUSG00000114968.1 (52545 total)\n",
       "  fvarLabels: tracking_id class_code ... length (8 total)\n",
       "  fvarMetadata: labelDescription\n",
       "experimentData: use 'experimentData(object)'\n",
       "Annotation:  "
      ]
     },
     "metadata": {},
     "output_type": "display_data"
    }
   ],
   "source": [
    "cds_neurons"
   ]
  },
  {
   "cell_type": "code",
   "execution_count": 41,
   "metadata": {},
   "outputs": [],
   "source": [
    "save(fpkm_data_np, file=\"fpkm_data\")\n",
    "save(marker_names_ordered, file=\"np_list\")\n",
    "save(marker_genes_ordered, file=\"np_list2\")"
   ]
  },
  {
   "cell_type": "code",
   "execution_count": 42,
   "metadata": {},
   "outputs": [],
   "source": [
    "fData=fData(cds_neurons)"
   ]
  },
  {
   "cell_type": "code",
   "execution_count": 43,
   "metadata": {},
   "outputs": [],
   "source": [
    "save(cds_neurons, file=\"cds_neurons\")"
   ]
  },
  {
   "cell_type": "code",
   "execution_count": 44,
   "metadata": {},
   "outputs": [],
   "source": [
    "#data=data_df[,-(1:2)]\n",
    "row_sums=rowSums(data_df)\n",
    "col_sums=colSums(data_df)\n",
    "list=c()\n",
    "for(i in c(1:length(col_sums))){\n",
    "    if(col_sums[i]==0){\n",
    "        list=c(list,i)\n",
    "        }\n",
    "}"
   ]
  },
  {
   "cell_type": "code",
   "execution_count": 45,
   "metadata": {},
   "outputs": [],
   "source": [
    "new_data=data_df[,-list]\n",
    "new_names=marker_names_ordered[-list]"
   ]
  },
  {
   "cell_type": "code",
   "execution_count": 46,
   "metadata": {},
   "outputs": [
    {
     "data": {
      "text/html": [
       "<style>\n",
       ".list-inline {list-style: none; margin:0; padding: 0}\n",
       ".list-inline>li {display: inline-block}\n",
       ".list-inline>li:not(:last-child)::after {content: \"\\00b7\"; padding: 0 .5ex}\n",
       "</style>\n",
       "<ol class=list-inline><li>117</li><li>59</li></ol>\n"
      ],
      "text/latex": [
       "\\begin{enumerate*}\n",
       "\\item 117\n",
       "\\item 59\n",
       "\\end{enumerate*}\n"
      ],
      "text/markdown": [
       "1. 117\n",
       "2. 59\n",
       "\n",
       "\n"
      ],
      "text/plain": [
       "[1] 117  59"
      ]
     },
     "metadata": {},
     "output_type": "display_data"
    },
    {
     "data": {
      "text/html": [
       "59"
      ],
      "text/latex": [
       "59"
      ],
      "text/markdown": [
       "59"
      ],
      "text/plain": [
       "[1] 59"
      ]
     },
     "metadata": {},
     "output_type": "display_data"
    }
   ],
   "source": [
    "dim(new_data)\n",
    "new_data2=new_data\n",
    "length(new_names)"
   ]
  },
  {
   "cell_type": "code",
   "execution_count": 47,
   "metadata": {},
   "outputs": [],
   "source": [
    "num=length(new_names)"
   ]
  },
  {
   "cell_type": "code",
   "execution_count": 48,
   "metadata": {},
   "outputs": [],
   "source": [
    "new_mat=matrix(0, nrow = num, ncol = num)\n",
    "for (k in c(1:num)){\n",
    "vec=rep(0, num)\n",
    "for(i in 1:dim(new_data)[1]){\n",
    "    if(new_data[i,k]>0){\n",
    "        vec=vec+new_data[i,]\n",
    "        }                                                    \n",
    "}\n",
    "new_mat[k,]=as.numeric(vec)\n",
    "    }"
   ]
  },
  {
   "cell_type": "code",
   "execution_count": 49,
   "metadata": {},
   "outputs": [
    {
     "data": {
      "text/html": [
       "TRUE"
      ],
      "text/latex": [
       "TRUE"
      ],
      "text/markdown": [
       "TRUE"
      ],
      "text/plain": [
       "[1] TRUE"
      ]
     },
     "metadata": {},
     "output_type": "display_data"
    }
   ],
   "source": [
    "isSymmetric(new_mat)"
   ]
  },
  {
   "cell_type": "code",
   "execution_count": 50,
   "metadata": {},
   "outputs": [],
   "source": [
    "rownames(new_mat)=new_names\n",
    "colnames(new_mat)=new_names"
   ]
  },
  {
   "cell_type": "code",
   "execution_count": 51,
   "metadata": {},
   "outputs": [
    {
     "name": "stderr",
     "output_type": "stream",
     "text": [
      "── \u001b[1mAttaching packages\u001b[22m ─────────────────────────────────────── tidyverse 1.3.0 ──\n",
      "\n",
      "\u001b[32m✔\u001b[39m \u001b[34mtidyr  \u001b[39m 1.0.2     \u001b[32m✔\u001b[39m \u001b[34mstringr\u001b[39m 1.4.0\n",
      "\u001b[32m✔\u001b[39m \u001b[34mreadr  \u001b[39m 1.3.1     \u001b[32m✔\u001b[39m \u001b[34mforcats\u001b[39m 0.5.0\n",
      "\u001b[32m✔\u001b[39m \u001b[34mpurrr  \u001b[39m 0.3.4     \n",
      "\n",
      "── \u001b[1mConflicts\u001b[22m ────────────────────────────────────────── tidyverse_conflicts() ──\n",
      "\u001b[31m✖\u001b[39m \u001b[34mplyr\u001b[39m::\u001b[32marrange()\u001b[39m          masks \u001b[34mdplyr\u001b[39m::arrange()\n",
      "\u001b[31m✖\u001b[39m \u001b[34mreadr\u001b[39m::\u001b[32mcol_factor()\u001b[39m      masks \u001b[34mscales\u001b[39m::col_factor()\n",
      "\u001b[31m✖\u001b[39m \u001b[34mBiobase\u001b[39m::\u001b[32mcombine()\u001b[39m       masks \u001b[34mBiocGenerics\u001b[39m::combine(), \u001b[34mdplyr\u001b[39m::combine()\n",
      "\u001b[31m✖\u001b[39m \u001b[34mpurrr\u001b[39m::\u001b[32mcompact()\u001b[39m         masks \u001b[34mplyr\u001b[39m::compact()\n",
      "\u001b[31m✖\u001b[39m \u001b[34mplyr\u001b[39m::\u001b[32mcount()\u001b[39m            masks \u001b[34mdplyr\u001b[39m::count()\n",
      "\u001b[31m✖\u001b[39m \u001b[34mpurrr\u001b[39m::\u001b[32mdiscard()\u001b[39m         masks \u001b[34mscales\u001b[39m::discard()\n",
      "\u001b[31m✖\u001b[39m \u001b[34mtidyr\u001b[39m::\u001b[32mexpand()\u001b[39m          masks \u001b[34mMatrix\u001b[39m::expand()\n",
      "\u001b[31m✖\u001b[39m \u001b[34mplyr\u001b[39m::\u001b[32mfailwith()\u001b[39m         masks \u001b[34mdplyr\u001b[39m::failwith()\n",
      "\u001b[31m✖\u001b[39m \u001b[34mtidyr\u001b[39m::\u001b[32mfill()\u001b[39m            masks \u001b[34mVGAM\u001b[39m::fill()\n",
      "\u001b[31m✖\u001b[39m \u001b[34mdplyr\u001b[39m::\u001b[32mfilter()\u001b[39m          masks \u001b[34mstats\u001b[39m::filter()\n",
      "\u001b[31m✖\u001b[39m \u001b[34mplyr\u001b[39m::\u001b[32mid()\u001b[39m               masks \u001b[34mdplyr\u001b[39m::id()\n",
      "\u001b[31m✖\u001b[39m \u001b[34mdplyr\u001b[39m::\u001b[32mlag()\u001b[39m             masks \u001b[34mstats\u001b[39m::lag()\n",
      "\u001b[31m✖\u001b[39m \u001b[34mplyr\u001b[39m::\u001b[32mmutate()\u001b[39m           masks \u001b[34mdplyr\u001b[39m::mutate()\n",
      "\u001b[31m✖\u001b[39m \u001b[34mtidyr\u001b[39m::\u001b[32mpack()\u001b[39m            masks \u001b[34mMatrix\u001b[39m::pack()\n",
      "\u001b[31m✖\u001b[39m \u001b[34mBiocGenerics\u001b[39m::\u001b[32mPosition()\u001b[39m masks \u001b[34mggplot2\u001b[39m::Position(), \u001b[34mbase\u001b[39m::Position()\n",
      "\u001b[31m✖\u001b[39m \u001b[34mplyr\u001b[39m::\u001b[32mrename()\u001b[39m           masks \u001b[34mdplyr\u001b[39m::rename()\n",
      "\u001b[31m✖\u001b[39m \u001b[34mplyr\u001b[39m::\u001b[32msummarise()\u001b[39m        masks \u001b[34mdplyr\u001b[39m::summarise()\n",
      "\u001b[31m✖\u001b[39m \u001b[34mplyr\u001b[39m::\u001b[32msummarize()\u001b[39m        masks \u001b[34mdplyr\u001b[39m::summarize()\n",
      "\u001b[31m✖\u001b[39m \u001b[34mtidyr\u001b[39m::\u001b[32munpack()\u001b[39m          masks \u001b[34mMatrix\u001b[39m::unpack()\n",
      "\n"
     ]
    }
   ],
   "source": [
    "library(tidyverse)\n",
    "dat2 <- new_mat %>%\n",
    "    tbl_df() %>%\n",
    "    rownames_to_column('Var1') %>%\n",
    "    gather(Var2, value, -Var1) %>%\n",
    "    mutate(\n",
    "        Var1 = factor(Var1, levels=1:num),\n",
    "        Var2 = factor(gsub(\"V\", \"\", Var2), levels=1:num)\n",
    "    )"
   ]
  },
  {
   "cell_type": "code",
   "execution_count": 52,
   "metadata": {},
   "outputs": [
    {
     "data": {
      "image/png": "[encoded data removed]",
      "text/plain": [
       "plot without title"
      ]
     },
     "metadata": {
      "image/png": {
       "height": 420,
       "width": 420
      },
      "text/plain": {
       "height": 420,
       "width": 420
      }
     },
     "output_type": "display_data"
    }
   ],
   "source": [
    "new_list=c()\n",
    "for(i in c(1:num)){\n",
    "    new_list=c(new_list,rep(rownames(new_mat)[i],num))\n",
    "}\n",
    "dat2$Var1_name=rep(rownames(new_mat),num)\n",
    "dat2$Var2_name=(new_list)\n",
    "\n",
    "g=ggplot(dat2,aes(Var1_name, Var2_name)) +\n",
    "    geom_tile(aes(fill = value)) + \n",
    "    labs(x = \"\", y = \"\", fill=\"Cells\") +\n",
    "    geom_text(data=subset(dat2, value>0 & as.numeric(Var1)>=as.numeric(Var2)), aes(label = value), size=1.8,angle = 90) +\n",
    "    scale_fill_gradientn(colours = c(\"grey95\",'steelblue1','steelblue1','steelblue1','steelblue2','#ABDDA4','#E6F598','#FFFFBF','#FEE08B'), values = c(0,.1,1), na.value=\"grey95\") +\n",
    "    theme(legend.position=\"top\") +\n",
    "    guides(colour = guide_legend(reverse=T)) +\n",
    "    theme(axis.text.x = element_text(angle = 90, vjust=.5, size=6))+\n",
    "    theme(axis.text.y = element_text(size=6, angle = 180))+\n",
    "    scale_y_discrete(position = \"right\")\n",
    "ggsave(\"Heatmap_Naresh_old\", plot=g, device=\"png\", width = 10, height = 10, units = c(\"cm\"), limitsize = TRUE)\n",
    "g"
   ]
  },
  {
   "cell_type": "code",
   "execution_count": 58,
   "metadata": {},
   "outputs": [],
   "source": [
    "new_list=c()\n",
    "for(i in c(1:num)){\n",
    "    new_list=c(new_list,rep(new_names[i],num))\n",
    "}"
   ]
  },
  {
   "cell_type": "code",
   "execution_count": 59,
   "metadata": {},
   "outputs": [
    {
     "data": {
      "text/html": [
       "<style>\n",
       ".list-inline {list-style: none; margin:0; padding: 0}\n",
       ".list-inline>li {display: inline-block}\n",
       ".list-inline>li:not(:last-child)::after {content: \"\\00b7\"; padding: 0 .5ex}\n",
       "</style>\n",
       "<ol class=list-inline><li>2401</li><li>3</li></ol>\n"
      ],
      "text/latex": [
       "\\begin{enumerate*}\n",
       "\\item 2401\n",
       "\\item 3\n",
       "\\end{enumerate*}\n"
      ],
      "text/markdown": [
       "1. 2401\n",
       "2. 3\n",
       "\n",
       "\n"
      ],
      "text/plain": [
       "[1] 2401    3"
      ]
     },
     "metadata": {},
     "output_type": "display_data"
    }
   ],
   "source": [
    "dim(dat2)"
   ]
  },
  {
   "cell_type": "code",
   "execution_count": 60,
   "metadata": {},
   "outputs": [],
   "source": [
    "dat2$Var1_name=rep(new_names,num)\n",
    "dat2$Var2_name=(new_list)"
   ]
  },
  {
   "cell_type": "code",
   "execution_count": null,
   "metadata": {},
   "outputs": [],
   "source": [
    "mycols=c(\"steelblue2\",'darkorchid1','deeppink','aquamarine','chocolate1','gold','darkgreen',\"blue3\")"
   ]
  },
  {
   "cell_type": "code",
   "execution_count": null,
   "metadata": {},
   "outputs": [],
   "source": [
    "g=ggplot(dat2,aes(Var1_name, Var2_name)) +\n",
    "    geom_tile(aes(fill = value)) + \n",
    "    labs(x = \"\", y = \"\", fill=\"Cells\") +\n",
    "    geom_text(data=subset(dat2, value>0 & as.numeric(Var1)>=as.numeric(Var2)), aes(label = value), size=1.8,angle = 90) +\n",
    "    scale_fill_gradientn(colours = c(\"grey95\",'steelblue1','steelblue1','steelblue1','steelblue2','#ABDDA4','#E6F598','#FFFFBF','#FEE08B'), values = c(0,.1,1), na.value=\"grey95\") +\n",
    "    theme(legend.position=\"top\") +\n",
    "    guides(colour = guide_legend(reverse=T)) +\n",
    "    theme(axis.text.x = element_text(angle = 90, vjust=.5, size=6))+\n",
    "    theme(axis.text.y = element_text(size=6, angle = 180))+\n",
    "    scale_y_discrete(position = \"right\")\n",
    "ggsave(\"Heatmap_spectral250\", plot=g, device=\"png\", width = 10, height = 11, units = c(\"cm\"), limitsize = TRUE)\n",
    "g"
   ]
  },
  {
   "cell_type": "code",
   "execution_count": null,
   "metadata": {},
   "outputs": [],
   "source": [
    "#scale_fill_gradientn(colours = c(\"grey95\",'steelblue1','steelblue1','steelblue2','#66C2A5','#ABDDA4','#E6F598','#FFFFBF','#FEE08B','#FDAE61','#F46D43','#D53E4F'), values = c(0,.1,1), na.value=\"grey95\") +\n"
   ]
  },
  {
   "cell_type": "code",
   "execution_count": null,
   "metadata": {},
   "outputs": [],
   "source": [
    "colnames(data_df)=marker_names_ordered\n",
    "rownames(data_df)=cell_list\n",
    "write.csv(data_df, \"FPKM-NP.csv\")"
   ]
  },
  {
   "cell_type": "code",
   "execution_count": null,
   "metadata": {},
   "outputs": [],
   "source": [
    "cell_list=colnames(fpkm_data_np)\n",
    "total_fpkm=c()\n",
    "for(a in c(1:117)){\n",
    "  sum1=sum(fpkm_data_np[,a])\n",
    "  total_fpkm=c(total_fpkm, sum1)\n",
    "}"
   ]
  },
  {
   "cell_type": "code",
   "execution_count": null,
   "metadata": {},
   "outputs": [],
   "source": [
    "data_df=data.frame(rep(0,117))\n",
    "i=1\n",
    "for(a in marker_genes_ordered){\n",
    "    list=fpkm_data_np[which(fData$tracking_id==a),]   \n",
    "    data_df[,i]=t(list)\n",
    "    i=i+1\n",
    "}\n",
    "data_df[data_df <.1] <- 0 "
   ]
  },
  {
   "cell_type": "code",
   "execution_count": null,
   "metadata": {},
   "outputs": [],
   "source": [
    "write.csv(data_df, \"FPKM-NP_withcutoff.csv\")"
   ]
  },
  {
   "cell_type": "code",
   "execution_count": null,
   "metadata": {},
   "outputs": [],
   "source": [
    "neuropeptides_total=c()\n",
    "for(a in c(1:117)){\n",
    "  sum2=sum(data_df[a,]>=1)\n",
    "  neuropeptides_total=c(neuropeptides_total,sum2)\n",
    "}"
   ]
  },
  {
   "cell_type": "code",
   "execution_count": null,
   "metadata": {},
   "outputs": [],
   "source": [
    "df2=data.frame(cell_list,neuropeptides_total)"
   ]
  },
  {
   "cell_type": "code",
   "execution_count": null,
   "metadata": {},
   "outputs": [],
   "source": [
    "freq=hist(neuropeptides_total,breaks=16)\n",
    "freq$counts"
   ]
  },
  {
   "cell_type": "code",
   "execution_count": null,
   "metadata": {},
   "outputs": [],
   "source": [
    "data_df_sorted=data.frame(matrix(NA, nrow = 117, ncol = 66))\n",
    "for(a in c(1:117)){\n",
    "  new=data_df[a,]\n",
    "  new_sorted=sort(new)\n",
    "  data_df_sorted[a,]=new_sorted\n",
    "}"
   ]
  },
  {
   "cell_type": "code",
   "execution_count": null,
   "metadata": {},
   "outputs": [],
   "source": [
    "data_df_sorted"
   ]
  },
  {
   "cell_type": "code",
   "execution_count": null,
   "metadata": {},
   "outputs": [],
   "source": [
    "which(neuropeptides_total==0)"
   ]
  },
  {
   "cell_type": "code",
   "execution_count": null,
   "metadata": {},
   "outputs": [],
   "source": [
    "#colSums(data_df_sorted)"
   ]
  },
  {
   "cell_type": "code",
   "execution_count": null,
   "metadata": {},
   "outputs": [],
   "source": [
    "#This range needs to be changed based on the max # of neuropeptides expressed in a cell\n",
    "np_expression_per_cell=data_df_sorted[,-c(1:58)]\n",
    "np_expression_per_cell=np_expression_per_cell[,c(8:1)]"
   ]
  },
  {
   "cell_type": "code",
   "execution_count": null,
   "metadata": {},
   "outputs": [],
   "source": [
    "np_expression_per_cell"
   ]
  },
  {
   "cell_type": "code",
   "execution_count": null,
   "metadata": {},
   "outputs": [],
   "source": [
    "sum_list=c()\n",
    "for(a in c(1:117)){\n",
    "  sum_list=c(sum_list,sum(np_expression_per_cell[a,]))\n",
    "}\n",
    "np_expression_per_cell$Sum=sum_list"
   ]
  },
  {
   "cell_type": "code",
   "execution_count": null,
   "metadata": {},
   "outputs": [],
   "source": []
  },
  {
   "cell_type": "code",
   "execution_count": null,
   "metadata": {},
   "outputs": [],
   "source": [
    "#Order cells\n",
    "ontp=order(neuropeptides_total,sum_list)\n",
    "np_exprs_ordered1=np_expression_per_cell[ontp,]\n",
    "np_exprs_ordered=np_exprs_ordered1[-c(1:length(which(sum_list==0))),]\n",
    "order_list=rownames(np_exprs_ordered)\n",
    "np_exprs_ordered$order=c(1:(117-length(which(sum_list==0))))\n",
    "np_exprs_ordered$Sum=NULL"
   ]
  },
  {
   "cell_type": "code",
   "execution_count": null,
   "metadata": {},
   "outputs": [],
   "source": [
    "npe1=melt(np_exprs_ordered, id.var=\"order\")"
   ]
  },
  {
   "cell_type": "code",
   "execution_count": null,
   "metadata": {},
   "outputs": [],
   "source": [
    "#This makes log scaled bar graph\n",
    "g2=ggplot(npe1, aes(x=order, y=value, fill=variable)) + \n",
    "  geom_bar(stat = \"identity\") +\n",
    "  scale_fill_manual(values=mycols)+\n",
    "  monocle_theme_opts()+\n",
    "  ylab(\"FPKM\")+\n",
    "  xlab(\"Neurons\")+\n",
    "  scale_x_continuous(expand = c(0,0), breaks = c(1:104))+\n",
    "  scale_y_continuous(limits = c(0,NA),expand = c(0,0))+\n",
    "  theme(\n",
    "    axis.text.x = element_blank())"
   ]
  },
  {
   "cell_type": "code",
   "execution_count": null,
   "metadata": {},
   "outputs": [],
   "source": [
    "sum_list_ordered1=sum_list[ontp]"
   ]
  },
  {
   "cell_type": "code",
   "execution_count": null,
   "metadata": {},
   "outputs": [],
   "source": [
    "sum_list_ordered=sum_list_ordered1[-(1:length(which(sum_list_ordered1==0)))]\n",
    "dim(np_exprs_ordered)"
   ]
  },
  {
   "cell_type": "code",
   "execution_count": null,
   "metadata": {},
   "outputs": [],
   "source": []
  },
  {
   "cell_type": "code",
   "execution_count": null,
   "metadata": {},
   "outputs": [],
   "source": [
    "sum_list_ordered"
   ]
  },
  {
   "cell_type": "code",
   "execution_count": null,
   "metadata": {},
   "outputs": [],
   "source": [
    "np_exprs_percent=data.frame(matrix(NA, nrow = 107, ncol = 8))"
   ]
  },
  {
   "cell_type": "code",
   "execution_count": null,
   "metadata": {},
   "outputs": [],
   "source": [
    "#Removed if statement bc it was breaking for unknown reason and it was never true. Manually test that sum_list_ordered is not zero in future applications\n",
    "for(a in c(1:107)){\n",
    "  #if(sum_list_ordered[a]==0){\n",
    "  #  np_exprs_percent[a,]=rep(0,8)\n",
    "  #}\n",
    "  #else{\n",
    "    np_exprs_percent[a,1:8]=np_exprs_ordered[a,1:8]/sum_list_ordered[a]\n",
    "  #}\n",
    "}"
   ]
  },
  {
   "cell_type": "code",
   "execution_count": null,
   "metadata": {},
   "outputs": [],
   "source": [
    "\n",
    "np_exprs_percent$order=c(1:107)\n",
    "npe2=melt(np_exprs_percent, id.var=\"order\")"
   ]
  },
  {
   "cell_type": "code",
   "execution_count": null,
   "metadata": {},
   "outputs": [],
   "source": [
    "#This makes percentage based bar-graph\n",
    "g3=ggplot(npe2, aes(x=order, y=value, fill=variable)) + \n",
    "  geom_bar(stat = \"identity\") +\n",
    "  scale_fill_manual(values=rev(mycols))+\n",
    "  monocle_theme_opts()+\n",
    "  ylab(\"Percent of total FPKM\")+\n",
    "  xlab(\"Neurons\")+\n",
    "  scale_y_continuous(expand = c(0,0))+\n",
    "  scale_x_continuous(expand = c(0,0), breaks = c(1:107))+\n",
    "  theme(\n",
    "    axis.text.x = element_blank())"
   ]
  },
  {
   "cell_type": "code",
   "execution_count": null,
   "metadata": {},
   "outputs": [],
   "source": [
    "length(which(np_exprs_ordered$X60!=0))\n"
   ]
  },
  {
   "cell_type": "code",
   "execution_count": null,
   "metadata": {},
   "outputs": [],
   "source": [
    "np_exprs_ordered"
   ]
  },
  {
   "cell_type": "code",
   "execution_count": null,
   "metadata": {},
   "outputs": [],
   "source": [
    "g2"
   ]
  },
  {
   "cell_type": "code",
   "execution_count": 139,
   "metadata": {},
   "outputs": [
    {
     "name": "stderr",
     "output_type": "stream",
     "text": [
      "Warning message:\n",
      "“Removed 144 rows containing missing values (position_stack).”"
     ]
    },
    {
     "data": {},
     "metadata": {},
     "output_type": "display_data"
    },
    {
     "data": {
      "image/png": "[encoded data removed]",
      "text/plain": [
       "plot without title"
      ]
     },
     "metadata": {},
     "output_type": "display_data"
    }
   ],
   "source": [
    "g3"
   ]
  },
  {
   "cell_type": "code",
   "execution_count": 140,
   "metadata": {},
   "outputs": [],
   "source": [
    "g_top=ggplot(npe1, aes(x=order, y=value, fill=variable, width=.75)) + \n",
    "geom_bar(stat = \"identity\") +\n",
    "scale_fill_manual(values=mycols)+\n",
    "monocle_theme_opts()+\n",
    "ylab(\"FPKM\")+\n",
    "xlab(\"Neurons\")+\n",
    "scale_x_continuous(expand = c(0,0), breaks = c(1:124))+\n",
    "scale_y_continuous(limits = c(0,NA),expand = c(0,0))+\n",
    "theme(\n",
    "  axis.text.x = element_blank()) +\n",
    "coord_cartesian(ylim=c(0, 1000))"
   ]
  },
  {
   "cell_type": "code",
   "execution_count": 141,
   "metadata": {},
   "outputs": [],
   "source": [
    "g_bottom=ggplot(npe1, aes(x=order, y=value, fill=variable, width=.75)) + \n",
    "geom_bar(stat = \"identity\") +\n",
    "scale_fill_manual(values=mycols)+\n",
    "monocle_theme_opts()+\n",
    "ylab(\"FPKM\")+\n",
    "xlab(\"Neurons\")+\n",
    "scale_x_continuous(expand = c(0,0), breaks = c(1:124))+\n",
    "scale_y_continuous(limits = c(0,NA),expand = c(0,0))+\n",
    "theme(\n",
    "  axis.text.x = element_blank()) +\n",
    "coord_cartesian(ylim=c(1000,218132.8391))"
   ]
  },
  {
   "cell_type": "code",
   "execution_count": 142,
   "metadata": {},
   "outputs": [
    {
     "data": {},
     "metadata": {},
     "output_type": "display_data"
    },
    {
     "data": {
      "image/png": "[encoded data removed]",
      "text/plain": [
       "plot without title"
      ]
     },
     "metadata": {},
     "output_type": "display_data"
    }
   ],
   "source": [
    "g_top"
   ]
  },
  {
   "cell_type": "code",
   "execution_count": 143,
   "metadata": {},
   "outputs": [
    {
     "data": {},
     "metadata": {},
     "output_type": "display_data"
    },
    {
     "data": {
      "image/png": "[encoded data removed]",
      "text/plain": [
       "plot without title"
      ]
     },
     "metadata": {},
     "output_type": "display_data"
    }
   ],
   "source": [
    "g_bottom"
   ]
  },
  {
   "cell_type": "code",
   "execution_count": 171,
   "metadata": {},
   "outputs": [],
   "source": [
    "ggsave(\"g_top\", plot=g_top, device=\"png\", width = 12, height = 5, units = c(\"cm\"), limitsize = TRUE)\n",
    "ggsave(\"g_bottom\", plot=g_bottom, device=\"png\", width = 12, height = 5, units = c(\"cm\"), limitsize = TRUE)"
   ]
  },
  {
   "cell_type": "code",
   "execution_count": 86,
   "metadata": {},
   "outputs": [
    {
     "data": {
      "text/plain": [
       "CellDataSet (storageMode: lockedEnvironment)\n",
       "assayData: 52545 features, 124 samples \n",
       "  element names: exprs \n",
       "protocolData: none\n",
       "phenoData\n",
       "  sampleNames: q4_0 q6_0 ... q468_0 (124 total)\n",
       "  varLabels: sample_id file ... Subtype (9 total)\n",
       "  varMetadata: labelDescription\n",
       "featureData\n",
       "  featureNames: ENSMUSG00000000001.4 ENSMUSG00000000003.15 ...\n",
       "    ENSMUSG00000114968.1 (52545 total)\n",
       "  fvarLabels: tracking_id class_code ... length (8 total)\n",
       "  fvarMetadata: labelDescription\n",
       "experimentData: use 'experimentData(object)'\n",
       "Annotation:  "
      ]
     },
     "metadata": {},
     "output_type": "display_data"
    }
   ],
   "source": [
    "cds_neurons"
   ]
  },
  {
   "cell_type": "code",
   "execution_count": 83,
   "metadata": {},
   "outputs": [
    {
     "data": {
      "text/html": [],
      "text/latex": [],
      "text/markdown": [],
      "text/plain": [
       "<0 x 0 matrix>"
      ]
     },
     "metadata": {},
     "output_type": "display_data"
    }
   ],
   "source": [
    "tSNE_dim_coords <- reducedDimA(cds_neurons)\n",
    "#tsne_1=tSNE_dim_coords[1,]\n",
    "#tsne_2=tSNE_dim_coords[2,]\n",
    "tSNE_dim_coords"
   ]
  },
  {
   "cell_type": "code",
   "execution_count": 84,
   "metadata": {},
   "outputs": [],
   "source": [
    "monocle_theme_opts <- function()\n",
    "{\n",
    "    theme(strip.background = element_rect(colour = 'white', fill = 'white')) +\n",
    "    theme(panel.border = element_blank()) +\n",
    "    theme(axis.line.x = element_line(size=0.25, color=\"black\")) +\n",
    "    theme(axis.line.y = element_line(size=0.25, color=\"black\")) +\n",
    "    theme(panel.grid.minor.x = element_blank(), panel.grid.minor.y = element_blank()) +\n",
    "    theme(panel.grid.major.x = element_blank(), panel.grid.major.y = element_blank()) + \n",
    "    theme(panel.background = element_rect(fill='white')) +\n",
    "    theme(legend.key=element_blank())\n",
    "}\n"
   ]
  },
  {
   "cell_type": "code",
   "execution_count": 85,
   "metadata": {},
   "outputs": [
    {
     "data": {},
     "metadata": {},
     "output_type": "display_data"
    },
    {
     "data": {
      "image/png": "[encoded data removed]",
      "text/plain": [
       "plot without title"
      ]
     },
     "metadata": {},
     "output_type": "display_data"
    }
   ],
   "source": [
    "for(i in c(1)){\n",
    "g=ggplot(data=data_df, aes(x = tsne_1, y = tsne_2))+geom_point(aes(colour=as.logical(data_df[,i])), size=3)+\n",
    "    scale_color_manual(values = c(\"#C7C7C7\", \"#FF6A6A\" )) +\n",
    "    monocle_theme_opts() + \n",
    "    ggtitle(marker_names_ordered[i]) +\n",
    "    xlab(paste(\"Component\", 1)) + \n",
    "    ylab(paste(\"Component\", 2)) +\n",
    "    #guides(color = guide_legend(label.position = \"top\")) +\n",
    "    theme(legend.key = element_blank()) +\n",
    "    theme(panel.background = element_rect(fill='white')) +\n",
    "    theme(text = element_text(size = 15)) +\n",
    "    theme(legend.position=\"none\") +\n",
    "    theme(plot.title = element_text(hjust = 0.5))\n",
    "    #ggsave(marker_names_ordered[i], plot=g, device=\"png\", width = 5, height = 5, units = c(\"in\"), limitsize = TRUE)\n",
    "    }\n",
    "g"
   ]
  },
  {
   "cell_type": "code",
   "execution_count": null,
   "metadata": {},
   "outputs": [],
   "source": []
  }
 ],
 "metadata": {
  "kernelspec": {
   "display_name": "R",
   "language": "R",
   "name": "ir"
  },
  "language_info": {
   "codemirror_mode": "r",
   "file_extension": ".r",
   "mimetype": "text/x-r-source",
   "name": "R",
   "pygments_lexer": "r",
   "version": "3.6.1"
  }
 },
 "nbformat": 4,
 "nbformat_minor": 1
}
